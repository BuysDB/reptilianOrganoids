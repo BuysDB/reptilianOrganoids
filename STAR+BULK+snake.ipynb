{
 "cells": [
  {
   "cell_type": "code",
   "execution_count": 1,
   "metadata": {
    "collapsed": true
   },
   "outputs": [],
   "source": [
    "%matplotlib inline\n",
    "import glob \n",
    "import pandas as pd\n",
    "import matplotlib.pyplot as plt"
   ]
  },
  {
   "cell_type": "code",
   "execution_count": 2,
   "metadata": {},
   "outputs": [],
   "source": [
    "df = pd.read_pickle('NajaNCOUNTS.pickle.gz').T # We did this separately for all samples"
   ]
  },
  {
   "cell_type": "code",
   "execution_count": 3,
   "metadata": {
    "collapsed": true
   },
   "outputs": [],
   "source": [
    "tgIdToGene = {}\n",
    "scaffoldToGeneId={}\n",
    "with open('../../tgMapList.tsv') as f:\n",
    "    for line in f:\n",
    "        parts = line.strip().split(None,1)\n",
    "        tgIdToGene[parts[0]] = parts[1]\n",
    "\n",
    "with open('../../tgMap.tsv') as f:\n",
    "    for line in f:\n",
    "        parts = line.strip().split(None,1)\n",
    "        scaffoldToGeneId[parts[0]] = parts[1]\n",
    "\n",
    "longColnames = []\n",
    "for index in df.columns:\n",
    "    longColnames.append( tgIdToGene[scaffoldToGeneId[index]] )\n"
   ]
  },
  {
   "cell_type": "code",
   "execution_count": 4,
   "metadata": {},
   "outputs": [
    {
     "name": "stdout",
     "output_type": "stream",
     "text": [
      "(1, 213263)\n"
     ]
    }
   ],
   "source": [
    "# Dataset size before collapsing same annotation genes\n",
    "print(df.shape)"
   ]
  },
  {
   "cell_type": "code",
   "execution_count": 5,
   "metadata": {
    "collapsed": true
   },
   "outputs": [],
   "source": [
    "df.columns = longColnames\n",
    "del longColnames"
   ]
  },
  {
   "cell_type": "code",
   "execution_count": 6,
   "metadata": {
    "collapsed": true
   },
   "outputs": [],
   "source": [
    "def barPlot(sums):\n",
    "    fig, ax = plt.subplots(figsize=(150,5))\n",
    "    ax.bar(range(len(sums)),sums)\n",
    "    ax.set_xticks(range(len(sums)) )\n",
    "    ax.set_xticklabels(sums.index, rotation=90)\n",
    "    ax.xaxis.set_tick_params(labelsize=9)\n",
    "#barPlot(df.sum())"
   ]
  },
  {
   "cell_type": "code",
   "execution_count": 7,
   "metadata": {},
   "outputs": [
    {
     "name": "stderr",
     "output_type": "stream",
     "text": [
      "/home/buysdb/anaconda3/lib/python3.6/site-packages/h5py/__init__.py:36: FutureWarning: Conversion of the second argument of issubdtype from `float` to `np.floating` is deprecated. In future, it will be treated as `np.float64 == np.dtype(float).type`.\n",
      "  from ._conv import register_converters as _register_converters\n"
     ]
    }
   ],
   "source": [
    "import scanpy as sc"
   ]
  },
  {
   "cell_type": "code",
   "execution_count": 8,
   "metadata": {},
   "outputs": [
    {
     "name": "stdout",
     "output_type": "stream",
     "text": [
      "Running Scanpy 1.4 on 2019-04-09 17:58.\n",
      "Dependencies: anndata==0.6.17 numpy==1.15.4 scipy==1.0.0 pandas==0.23.4 scikit-learn==0.19.1 statsmodels==0.9.0 python-igraph==0.7.1 louvain==0.6.1 \n"
     ]
    }
   ],
   "source": [
    "sc.settings.verbosity = 3  # verbosity: errors (0), warnings (1), info (2), hints (3)\n",
    "sc.settings.set_figure_params(dpi=80)  # low dpi (dots per inch) yields small inline figures\n",
    "sc.logging.print_version_and_date()\n",
    "sc.logging.print_versions_dependencies_numerics()"
   ]
  },
  {
   "cell_type": "code",
   "execution_count": 9,
   "metadata": {
    "collapsed": true
   },
   "outputs": [],
   "source": [
    "summedCols = df.groupby(df.columns, axis=1).sum()"
   ]
  },
  {
   "cell_type": "code",
   "execution_count": 10,
   "metadata": {},
   "outputs": [
    {
     "name": "stdout",
     "output_type": "stream",
     "text": [
      "(1, 70786)\n"
     ]
    }
   ],
   "source": [
    "# Dataset size after collapsing same annotation genes\n",
    "print(summedCols.shape)"
   ]
  },
  {
   "cell_type": "code",
   "execution_count": 11,
   "metadata": {
    "collapsed": true
   },
   "outputs": [],
   "source": [
    "banned = [\n",
    " 'rRNA','ribosomal','mitochondrial','mitochondrion','microsatellite','transposon','SINE','LINE repeat'   \n",
    "]\n",
    "keptGenes = [geneName for geneName in summedCols.columns if not any( (b in geneName for b in banned) )]\n"
   ]
  },
  {
   "cell_type": "code",
   "execution_count": 12,
   "metadata": {},
   "outputs": [
    {
     "data": {
      "text/plain": [
       "AnnData object with n_obs × n_vars = 1 × 70786 "
      ]
     },
     "execution_count": 12,
     "metadata": {},
     "output_type": "execute_result"
    }
   ],
   "source": [
    "adata = sc.AnnData(summedCols)\n",
    "#adata.var_names_make_unique()\n",
    "adata"
   ]
  },
  {
   "cell_type": "code",
   "execution_count": 13,
   "metadata": {
    "collapsed": true
   },
   "outputs": [],
   "source": [
    "batches = [ob[0].split('_')[0].split('-')[-1] for ob in adata.obs_names]\n",
    "adata.obs['batch'] = batches"
   ]
  },
  {
   "cell_type": "code",
   "execution_count": 14,
   "metadata": {
    "collapsed": true
   },
   "outputs": [],
   "source": [
    "# Transpose for RaceID analysis:\n",
    "exportFrame = adata.to_df().transpose()"
   ]
  },
  {
   "cell_type": "code",
   "execution_count": 15,
   "metadata": {
    "collapsed": true
   },
   "outputs": [],
   "source": [
    "keptGenes = [geneName for geneName in adata.var.index if not any( (b in geneName for b in banned) )]"
   ]
  },
  {
   "cell_type": "code",
   "execution_count": 16,
   "metadata": {
    "collapsed": true
   },
   "outputs": [],
   "source": [
    "exportFrame.to_csv('./bulkNajMappedDeduplicated.csv')\n"
   ]
  }
 ],
 "metadata": {
  "kernelspec": {
   "display_name": "Python 3",
   "language": "python",
   "name": "python3"
  },
  "language_info": {
   "codemirror_mode": {
    "name": "ipython",
    "version": 3
   },
   "file_extension": ".py",
   "mimetype": "text/x-python",
   "name": "python",
   "nbconvert_exporter": "python",
   "pygments_lexer": "ipython3",
   "version": "3.6.8"
  }
 },
 "nbformat": 4,
 "nbformat_minor": 2
}
